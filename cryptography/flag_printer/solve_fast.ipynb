{
 "cells": [
  {
   "cell_type": "code",
   "execution_count": null,
   "metadata": {
    "vscode": {
     "languageId": "python"
    }
   },
   "outputs": [],
   "source": [
    "p = 7514777789\n",
    "\n",
    "X = []\n",
    "Y = []\n",
    "for line in open('encoded.txt', 'r').read().strip().split('\\n'):\n",
    "    x, y = line.split(' ')\n",
    "    X.append(int(x))\n",
    "    Y.append(int(y))\n",
    "\n",
    "try:\n",
    "    K = GF(p)\n",
    "    R = PolynomialRing(K, 'x')\n",
    "except NameError:\n",
    "    raise Exception(\"SageMath kernel is required to run this script!\")\n"
   ]
  },
  {
   "cell_type": "markdown",
   "metadata": {},
   "source": [
    "# Fast interpolation algorithm\n",
    "The following algorithm is taken from [1, chapter 10].\n",
    "\n",
    "Given our input $x_0, \\ldots, x_{n-1}$, and $y_0, \\ldots, y_{n-1}$, we will construct the interpolating polynomial using the barycentric form \n",
    "$$ L(x) = Z(x) \\sum_j \\frac{w_j}{x-x_j}y_j $$\n",
    "of the Lagrange polynomial. Here, $Z(x) = \\Pi_j (x-x_j)$, and $w_j = \\Pi_{m\\neq j}(x_j - x_m)^{-1}$.\n",
    "\n",
    "The algorithm only has complexity $O(M(n)\\log n)$, where $M(n)$ is the complexity of multiplication of polynomials.\n",
    "\n",
    "1. Compute $Z(x)$ by building up a subproduct tree. \n",
    "2. Use the subproduct tree to do fast evaluation of $Z'(x)$ by dividing down the subproduct tree to construct the weights $w_j$.\n",
    "3. Use a dvide-and-conquer algorithm to construct our polynomial"
   ]
  },
  {
   "cell_type": "markdown",
   "metadata": {},
   "source": [
    "## Building Up The Subproduct Tree\n",
    "\n",
    "Note: For simplicity, we assume $n = 2^k$. The general case is similar. We denote by $\\log := \\log_2$ the binary logarithm.\n",
    "\n",
    "The idea is to split the point set $\\{x_0, \\ldots, x_{n-1}\\}$ into two halves, and to proceed recursively with each of the two halves. As a result, we get a binary tree of depth $\\log n$ with root $\\{x_0, \\ldots, x_{n-1}\\}$ and leaves $\\{x_i\\}$.\n",
    "\n",
    "Instead of taking the points $\\{x_0, \\ldots, x_{n-1}\\}$, we can also take the polynomial $Z(x) = \\Pi_j(x-x_j)$ as root of the tree, and get a binary tree, where the leaves are the monomials $x-x_i$.\n",
    "\n",
    "![Subproduct tree of the polynomial Z(x)](tex/tree.png \"Subproduct tree of the polynomial Z(x)\")\n",
    "\n",
    "The algorithm [1, Algorithm 10.3], builds up $Z(x)$ by starting at the monomials and going up to the root.\n",
    "\n",
    "\n"
   ]
  },
  {
   "cell_type": "code",
   "execution_count": 13,
   "metadata": {
    "vscode": {
     "languageId": "python"
    }
   },
   "outputs": [],
   "source": [
    "\n",
    "class Tree():\n",
    "    def __init__(self, poly, X, left=None, right=None):\n",
    "        self.left = left\n",
    "        self.right = right\n",
    "        self.poly = poly\n",
    "        self.X = X\n",
    "\n",
    "    def __len__(self):\n",
    "        return len(self.X)\n",
    "\n",
    "    def __call__(self, *args, **kwds):\n",
    "        self.poly(*args, **kwds)\n",
    "\n",
    "    def __mul__(self, other):\n",
    "        return Tree(self.poly * other.poly, self.X + other.X, self, other)\n",
    "\n",
    "    def __call__(self, *args, **kwds):\n",
    "        return self.poly(*args, **kwds)\n",
    "\n",
    "\n",
    "def compTree(X):\n",
    "    x = R.gen()\n",
    "\n",
    "    height = ceil(log(len(X))/ log(2))\n",
    "\n",
    "    nodes = []\n",
    "\n",
    "    for xk in X:\n",
    "        nodes.append(Tree(R(x-xk), [xk]))\n",
    "\n",
    "    for i in range(1, height):\n",
    "        new_nodes = []\n",
    "        for j in range(0, len(nodes)-1, 2):\n",
    "            node = nodes[j] * nodes[j+1]\n",
    "            new_nodes.append(node)\n",
    "        if len(nodes) % 2 == 1:\n",
    "            new_nodes.append(nodes[-1])\n",
    "        nodes = new_nodes\n",
    "\n",
    "    assert(len(nodes) == 2)\n",
    "    return nodes[0] * nodes[1]"
   ]
  },
  {
   "cell_type": "markdown",
   "metadata": {},
   "source": [
    "## Fast multipoint evaluation\n",
    "\n",
    "This is basically an application of the chinese remainder theorem, which gives us an isomorphism\n",
    "$$ \\begin{align*} \\chi: K[x]/\\langle Z(x) \\rangle & \\to K^n \\\\ f &\\mapsto (f(x_0), \\ldots, f(x_{n-1}) \\end{align*} $$\n",
    "\n",
    "The idea is that we can use the identity $f(x_j) = f \\mathbin{\\text{rem}} (x-x_j)$ to evaluate $f$. Recall that the remainder $r = f \\mathbin{\\text{rem}} d$ with respect to $d$ is the remainder $r$ of the polynomial division of $f$ and $d$, i.e., $f = qd + r$. So if we chose our divisor $d$ such that $d(x_j) = 0$, then $f(x_j) = q(x_j)d(x_j) + r(x_j) = r(x_j)$. Together with the subproduct tree, we can use this to recursively decrease the degree of the polynomial we need to evaluate on."
   ]
  },
  {
   "cell_type": "code",
   "execution_count": null,
   "metadata": {
    "vscode": {
     "languageId": "python"
    }
   },
   "outputs": [],
   "source": [
    "\n",
    "def fastEval(f, tree):\n",
    "    if f.degree() < 2 or tree.poly.degree() < 2:\n",
    "        if tree.poly.degree() == 1:\n",
    "            return [f(-tree.poly(0))]\n",
    "        if f.degree() == 0:\n",
    "            print(\"degree 0\")\n",
    "            return [f]\n",
    "\n",
    "    A = B = 0\n",
    "    if tree.left:\n",
    "        _, r1 = f.quo_rem(tree.left.poly)\n",
    "        A = fastEval(r1, tree.left)\n",
    "    else:\n",
    "        print(\"left empty\")\n",
    "    if tree.right:\n",
    "        _, r2 = f.quo_rem(tree.right.poly)\n",
    "        B = fastEval(r2, tree.right)\n",
    "    else:\n",
    "        print(\"right empty\")\n",
    "    return A + B"
   ]
  },
  {
   "cell_type": "code",
   "execution_count": 14,
   "metadata": {
    "vscode": {
     "languageId": "python"
    }
   },
   "outputs": [],
   "source": [
    "def test(X):\n",
    "    tree = compTree(X)\n",
    "    Z1 = tree.left\n",
    "    Z2 = tree.right\n",
    "    Y1 = fastEval(Z2.poly, Z1)\n",
    "    Y2 = fastEval(Z1.poly, Z2)\n",
    "\n",
    "    assert(len(Y1) == len(Z1.X))\n",
    "    assert(len(Y2) == len(Z2.X))\n",
    "\n",
    "    for i in range(0, len(Z1.X)):\n",
    "        assert(Y1[i] == Z2.poly(Z1.X[i]))\n",
    "\n",
    "    for i in range(0, len(Z2.X)):\n",
    "        assert(Y2[i] == Z1.poly(Z2.X[i]))\n",
    "\n",
    "test(X[:931])"
   ]
  },
  {
   "cell_type": "markdown",
   "metadata": {},
   "source": [
    "## Calculating Weights\n",
    "\n",
    "We use the fact that\n",
    "$$ Z'(x) = \\sum_k \\Pi_{i\\neq k}(x-x_i). $$\n",
    "Thus, $Z'(x_j) = \\Pi_{i\\neq j}(x_j-x_i) = {w_j}^{-1}$."
   ]
  },
  {
   "cell_type": "code",
   "execution_count": 15,
   "metadata": {
    "vscode": {
     "languageId": "python"
    }
   },
   "outputs": [],
   "source": [
    "def calcWeights(Y, tree):\n",
    "    print(\"calculating deriviative\")\n",
    "    Zp = tree.poly.derivative()\n",
    "    print(\"evaluating\")\n",
    "    Wj = fastEval(Zp, tree)\n",
    "    print(\"putting it together\")\n",
    "    return [y/w for y, w in zip(Y, Wj)]"
   ]
  },
  {
   "cell_type": "markdown",
   "metadata": {},
   "source": [
    "## Fast interpolation\n",
    "\n",
    "[1, Algorithm 10.9], [1, Algorithm 10.11]\n",
    "\n",
    "Let $c_i = y_i/w_i$. We construct the polynomial $\\sum_i c_i \\frac {Z(x)}{x-x_i}$ recursively:\n"
   ]
  },
  {
   "cell_type": "code",
   "execution_count": null,
   "metadata": {
    "vscode": {
     "languageId": "python"
    }
   },
   "outputs": [],
   "source": [
    "def _fast_interpolate(weights, tree):\n",
    "    if len(tree) == 1:\n",
    "        return weights[0]\n",
    "\n",
    "    W1 = weights[:len(tree.left)]\n",
    "    W2 = weights[len(tree.left):]\n",
    "\n",
    "    r0 = _fast_interpolate(W1, tree.left)\n",
    "    r1 = _fast_interpolate(W2, tree.right)\n",
    "\n",
    "    return r0 * tree.right.poly + r1 * tree.left.poly\n",
    "\n",
    "def fast_interpolate(X, Y):\n",
    "    print(\"computing tree\")\n",
    "    tree = compTree(X)\n",
    "    print(\"computing weights\")\n",
    "    weights = calcWeights(Y, tree)\n",
    "    print(\"interpolating...\")\n",
    "    return _fast_interpolate(weights, tree)\n",
    "\n",
    "def test():\n",
    "    Xt = X[:10000]\n",
    "    Yt = Y[:10000]\n",
    "\n",
    "    f = fast_interpolate(Xt, Yt)\n",
    "    for x, y in zip(Xt, Yt):\n",
    "        assert f(x) == y\n",
    "\n",
    "test()"
   ]
  },
  {
   "cell_type": "code",
   "execution_count": null,
   "metadata": {
    "vscode": {
     "languageId": "python"
    }
   },
   "outputs": [],
   "source": [
    "f = fast_interpolate(X, Y)\n",
    "\n",
    "open(\"output.bmp\", \"wb\").write(bytearray(f.coefficients(sparse=False)[:-1]))"
   ]
  },
  {
   "cell_type": "markdown",
   "metadata": {},
   "source": [
    "[1] von zur Gathen, Joachim Gerhard, Jürgen - Modern Computer Algebra, third edition, 2013, Cambridge Press"
   ]
  }
 ],
 "metadata": {
  "kernelspec": {
   "display_name": "SageMath 10.3",
   "language": "sage",
   "name": "sagemath"
  },
  "language_info": {
   "codemirror_mode": {
    "name": "ipython",
    "version": 3
   },
   "file_extension": ".py",
   "mimetype": "text/x-python",
   "name": "sage",
   "nbconvert_exporter": "python",
   "pygments_lexer": "ipython3",
   "version": "3.11.8"
  }
 },
 "nbformat": 4,
 "nbformat_minor": 2
}
